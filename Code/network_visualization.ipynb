{
 "cells": [
  {
   "cell_type": "code",
   "execution_count": null,
   "source": [
    "%load_ext autoreload\n",
    "%autoreload 2\n",
    "\n",
    "import numpy as np\n",
    "import matplotlib.pyplot as plt\n",
    "import networkx as nx\n",
    "from network_visualization import draw_network, cmap\n",
    "from loader import load"
   ],
   "outputs": [],
   "metadata": {}
  },
  {
   "cell_type": "code",
   "execution_count": null,
   "source": [
    "weights1, delays1, fitnesses1 = load('csv_files_data1')\n",
    "weights2, delays2, fitnesses2 = load('csv_files_data2')\n",
    "weights3, delays3, fitnesses3 = load('csv_files_datasets_3_to_7/csv_files_data3')\n",
    "weights4, delays4, fitnesses4 = load('csv_files_datasets_3_to_7/csv_files_data4')\n",
    "weights5, delays5, fitnesses5 = load('csv_files_datasets_3_to_7/csv_files_data5')\n",
    "weights6, delays6, fitnesses6 = load('csv_files_datasets_3_to_7/csv_files_data6')\n",
    "weights7, delays7, fitnesses7 = load('csv_files_datasets_3_to_7/csv_files_data7')\n",
    "weights8, delays8, fitnesses8 = load('99_gens_96_indiv_maxfitness_11')\n",
    "\n",
    "all_weights = np.concatenate((weights1, weights2, weights3, weights4, weights5, weights6, weights7, weights8), axis=0)\n",
    "all_delays = np.concatenate((delays1, delays2, delays3, delays4, delays5, delays6, delays7, delays8), axis=0)\n",
    "all_fitnesses = np.concatenate((fitnesses1, fitnesses2, fitnesses3, fitnesses4, fitnesses5, fitnesses6, fitnesses7, fitnesses8), axis=0)"
   ],
   "outputs": [],
   "metadata": {}
  },
  {
   "cell_type": "code",
   "execution_count": null,
   "source": [
    "weights6 == weights8"
   ],
   "outputs": [],
   "metadata": {}
  },
  {
   "cell_type": "code",
   "execution_count": null,
   "source": [
    "all_idcs_desc_fitness = np.argsort(all_fitnesses)[::-1]\n",
    "idcs_desc_fitness1 = np.argsort(fitnesses1)[::-1]\n",
    "idcs_desc_fitness2 = np.argsort(fitnesses2)[::-1]\n",
    "idcs_desc_fitness3 = np.argsort(fitnesses3)[::-1]\n",
    "idcs_desc_fitness4 = np.argsort(fitnesses4)[::-1]\n",
    "idcs_desc_fitness5 = np.argsort(fitnesses5)[::-1]\n",
    "idcs_desc_fitness6 = np.argsort(fitnesses6)[::-1]\n",
    "idcs_desc_fitness7 = np.argsort(fitnesses7)[::-1]\n",
    "idcs_desc_fitness8 = np.argsort(fitnesses8)[::-1]"
   ],
   "outputs": [],
   "metadata": {}
  },
  {
   "cell_type": "markdown",
   "source": [
    "### Best Individual"
   ],
   "metadata": {}
  },
  {
   "cell_type": "code",
   "execution_count": null,
   "source": [
    "i_max_all = all_idcs_desc_fitness[0]\n",
    "w = all_weights[i_max_all]\n",
    "d = all_delays[i_max_all]\n",
    "\n",
    "G = draw_network(w, d, title='Best Individual (all data)')\n",
    "print(\"Fitness:\", all_fitnesses[i_max_all])"
   ],
   "outputs": [],
   "metadata": {}
  },
  {
   "cell_type": "markdown",
   "source": [
    "### Worst Individual"
   ],
   "metadata": {}
  },
  {
   "cell_type": "code",
   "execution_count": null,
   "source": [
    "i_min_all = all_idcs_desc_fitness[-1]\n",
    "w = all_weights[i_min_all]\n",
    "d = all_delays[i_min_all]\n",
    "\n",
    "G = draw_network(w, d, title='Worst Individual (all data)')\n",
    "print(\"Fitness:\", all_fitnesses[i_min_all])"
   ],
   "outputs": [],
   "metadata": {}
  },
  {
   "cell_type": "markdown",
   "source": [
    "### Best – Worst Individual"
   ],
   "metadata": {}
  },
  {
   "cell_type": "code",
   "execution_count": null,
   "source": [
    "i_max_all = all_idcs_desc_fitness[0]\n",
    "i_min_all = all_idcs_desc_fitness[-1]\n",
    "w = all_weights[i_max_all] - all_weights[i_min_all]\n",
    "d = all_delays[i_max_all] - all_delays[i_min_all]\n",
    "\n",
    "G = draw_network(w, d, title='Best – Worst Individual (all data)')"
   ],
   "outputs": [],
   "metadata": {}
  },
  {
   "cell_type": "code",
   "execution_count": null,
   "source": [
    "i_max1 = idcs_desc_fitness1[0]\n",
    "i_min1 = idcs_desc_fitness1[-6]\n",
    "w = weights1[i_max1] - weights1[i_min1]\n",
    "d = delays1[i_max1] - delays1[i_min1]\n",
    "\n",
    "G = draw_network(w, d, title='Best – Worst Individual (data 1)')"
   ],
   "outputs": [],
   "metadata": {}
  },
  {
   "cell_type": "markdown",
   "source": [
    "### Best – Second Best Individual"
   ],
   "metadata": {}
  },
  {
   "cell_type": "code",
   "execution_count": null,
   "source": [
    "i_max_all = all_idcs_desc_fitness[0]\n",
    "i_2nd_max_all = all_idcs_desc_fitness[1]\n",
    "w = all_weights[i_max_all] - all_weights[i_2nd_max_all]\n",
    "d = all_delays[i_max_all] - all_delays[i_2nd_max_all]\n",
    "\n",
    "G = draw_network(w, d, title='Best – Second Best Individual (all data)')"
   ],
   "outputs": [],
   "metadata": {}
  },
  {
   "cell_type": "code",
   "execution_count": null,
   "source": [
    "i_max1 = idcs_desc_fitness1[0]\n",
    "i_2nd_max1 = idcs_desc_fitness1[5]\n",
    "w = weights1[i_max1] - weights1[i_2nd_max1]\n",
    "d = delays1[i_max1] - delays1[i_2nd_max1]\n",
    "\n",
    "G = draw_network(w, d, title='Best – Second Best Individual (data 1)')"
   ],
   "outputs": [],
   "metadata": {}
  },
  {
   "cell_type": "markdown",
   "source": [
    "### 10 Best - 10 Worst Individuals"
   ],
   "metadata": {}
  },
  {
   "cell_type": "code",
   "execution_count": null,
   "source": [
    "max10_idcs_all = all_idcs_desc_fitness[:10]\n",
    "min10_idcs_all = all_idcs_desc_fitness[-10:]\n",
    "w = all_weights[max10_idcs_all].mean(axis=0) - all_weights[min10_idcs_all].mean(axis=0)\n",
    "d = all_delays[max10_idcs_all].mean(axis=0) - all_delays[min10_idcs_all].mean(axis=0)\n",
    "\n",
    "G = draw_network(w, d, title='10 Best – 10 Worst Individuals (all data)')"
   ],
   "outputs": [],
   "metadata": {}
  },
  {
   "cell_type": "code",
   "execution_count": null,
   "source": [
    "max10_idcs1 = idcs_desc_fitness1[:10]\n",
    "min10_idcs1 = idcs_desc_fitness1[-10:]\n",
    "w = weights1[max10_idcs1].mean(axis=0) - weights1[min10_idcs1].mean(axis=0)\n",
    "d = delays1[max10_idcs1].mean(axis=0) - delays1[min10_idcs1].mean(axis=0)\n",
    "\n",
    "G = draw_network(w, d, title='10 Best – 10 Worst Individuals (data 1)')"
   ],
   "outputs": [],
   "metadata": {}
  },
  {
   "cell_type": "code",
   "execution_count": null,
   "source": [
    "max10_idcs1 = idcs_desc_fitness1[:10]\n",
    "w = weights1.std(axis=0) - weights1[max10_idcs1].std(axis=0)\n",
    "d = delays1.std(axis=0) - delays1[max10_idcs1].std(axis=0)\n",
    "\n",
    "G = draw_network(w, d, maxwidth=20, title='10 Best – 10 Worst Individuals (data 1)')"
   ],
   "outputs": [],
   "metadata": {}
  },
  {
   "cell_type": "code",
   "execution_count": null,
   "source": [
    "max10_idcs2 = idcs_desc_fitness2[:10]\n",
    "w = weights2.std(axis=0) - weights2[max10_idcs2].std(axis=0)\n",
    "d = delays2.std(axis=0) - delays2[max10_idcs2].std(axis=0)\n",
    "\n",
    "G = draw_network(w, d, maxwidth=20, title='10 Best – 10 Worst Individuals (data 1)')"
   ],
   "outputs": [],
   "metadata": {}
  }
 ],
 "metadata": {
  "orig_nbformat": 4,
  "language_info": {
   "name": "python",
   "version": "3.9.6",
   "mimetype": "text/x-python",
   "codemirror_mode": {
    "name": "ipython",
    "version": 3
   },
   "pygments_lexer": "ipython3",
   "nbconvert_exporter": "python",
   "file_extension": ".py"
  },
  "kernelspec": {
   "name": "python3",
   "display_name": "Python 3.9.6 64-bit ('cwp': conda)"
  },
  "interpreter": {
   "hash": "d5b6930b79664fd2fd478626cda658ab85c8dc312a8becc4b307d35bc96964b9"
  }
 },
 "nbformat": 4,
 "nbformat_minor": 2
}