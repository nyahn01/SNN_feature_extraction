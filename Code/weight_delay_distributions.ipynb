{
 "cells": [
  {
   "cell_type": "code",
   "execution_count": null,
   "source": [
    "import numpy as np\n",
    "import matplotlib.pyplot as plt\n",
    "from loader import load\n",
    "from network_visualization import cmap"
   ],
   "outputs": [],
   "metadata": {}
  },
  {
   "cell_type": "code",
   "execution_count": null,
   "source": [
    "weights1, delays1, fitnesses1 = load('csv_files_data1')\n",
    "weights2, delays2, fitnesses2 = load('csv_files_data2')\n",
    "weights3, delays3, fitnesses3 = load('csv_files_datasets_3_to_7/csv_files_data3')\n",
    "weights4, delays4, fitnesses4 = load('csv_files_datasets_3_to_7/csv_files_data4')\n",
    "weights5, delays5, fitnesses5 = load('csv_files_datasets_3_to_7/csv_files_data5')\n",
    "weights6, delays6, fitnesses6 = load('csv_files_datasets_3_to_7/csv_files_data6')\n",
    "weights7, delays7, fitnesses7 = load('csv_files_datasets_3_to_7/csv_files_data7')\n",
    "weights8, delays8, fitnesses8 = load('99_gens_96_indiv_maxfitness_11')\n",
    "\n",
    "all_weights = np.concatenate((weights1, weights2, weights3, weights4, weights5, weights6, weights7, weights8), axis=0)\n",
    "all_delays = np.concatenate((delays1, delays2, delays3, delays4, delays5, delays6, delays7, delays8), axis=0)\n",
    "all_fitnesses = np.concatenate((fitnesses1, fitnesses2, fitnesses3, fitnesses4, fitnesses5, fitnesses6, fitnesses7, fitnesses8), axis=0)"
   ],
   "outputs": [],
   "metadata": {}
  },
  {
   "cell_type": "code",
   "execution_count": null,
   "source": [
    "fitnesses1.min(), fitnesses2.min(), fitnesses3.min(), fitnesses4.min(), fitnesses5.min(), fitnesses6.min(), fitnesses7.min(), fitnesses8.min()"
   ],
   "outputs": [],
   "metadata": {}
  },
  {
   "cell_type": "code",
   "execution_count": null,
   "source": [
    "fitnesses1.max(), fitnesses2.max(), fitnesses3.max(), fitnesses4.max(), fitnesses5.max(), fitnesses6.max(), fitnesses7.max(), fitnesses8.max()"
   ],
   "outputs": [],
   "metadata": {}
  },
  {
   "cell_type": "code",
   "execution_count": null,
   "source": [
    "np.median(fitnesses1), np.median(fitnesses2), np.median(fitnesses3), np.median(fitnesses4), np.median(fitnesses5), np.median(fitnesses6), np.median(fitnesses7), np.median(fitnesses8)"
   ],
   "outputs": [],
   "metadata": {}
  },
  {
   "cell_type": "code",
   "execution_count": null,
   "source": [
    "filter_outliers = True\n",
    "threshold = 0\n",
    "take_subset_only = False\n",
    "subset_size = 100"
   ],
   "outputs": [],
   "metadata": {}
  },
  {
   "cell_type": "code",
   "execution_count": null,
   "source": [
    "if take_subset_only:\n",
    "    random_subset = np.random.choice(len(all_weights), subset_size)\n",
    "    some_weights = all_weights[random_subset]\n",
    "    some_delays = all_delays[random_subset]\n",
    "    some_fitnesses = all_fitnesses[random_subset]\n",
    "else:\n",
    "    some_weights = all_weights\n",
    "    some_delays = all_delays\n",
    "    some_fitnesses = all_fitnesses\n",
    "\n",
    "if filter_outliers:\n",
    "    weights = some_weights[np.where(some_fitnesses>threshold)]\n",
    "    delays = some_delays[np.where(some_fitnesses>threshold)]\n",
    "    fitnesses = some_fitnesses[np.where(some_fitnesses>threshold)]\n",
    "else:\n",
    "    weights = some_weights\n",
    "    delays = some_delays\n",
    "    fitnesses = some_fitnesses"
   ],
   "outputs": [],
   "metadata": {}
  },
  {
   "cell_type": "code",
   "execution_count": null,
   "source": [
    "plt.hist(all_fitnesses, bins='auto');"
   ],
   "outputs": [],
   "metadata": {}
  },
  {
   "cell_type": "code",
   "execution_count": null,
   "source": [
    "plt.hist(fitnesses, bins='auto');"
   ],
   "outputs": [],
   "metadata": {}
  },
  {
   "cell_type": "code",
   "execution_count": null,
   "source": [
    "w_l1 = weights[:, :36]\n",
    "w_l2 = weights[:, 36:66]\n",
    "w_l3 = weights[:, 66:]\n",
    "d_l1 = delays[:, :36]\n",
    "d_l2 = delays[:, 36:66]\n",
    "d_l3 = delays[:, 66:]\n",
    "f_l1 = np.tile(fitnesses, (36, 1)).T\n",
    "f_l2 = np.tile(fitnesses, (30, 1)).T\n",
    "f_l3 = np.tile(fitnesses, (12, 1)).T\n",
    "\n",
    "jitter_l1 = (np.random.random((d_l1.shape))-0.5)*0.5\n",
    "jitter_l2 = (np.random.random((d_l2.shape))-0.5)*0.5\n",
    "jitter_l3 = (np.random.random((d_l3.shape))-0.5)*0.5"
   ],
   "outputs": [],
   "metadata": {}
  },
  {
   "cell_type": "code",
   "execution_count": null,
   "source": [
    "fig, ax = plt.subplots()\n",
    "ax.scatter(w_l1, d_l1+jitter_l1, c=f_l1, alpha=0.5, cmap='coolwarm', marker='.', edgecolors='none')"
   ],
   "outputs": [],
   "metadata": {}
  },
  {
   "cell_type": "code",
   "execution_count": null,
   "source": [
    "fig, ax = plt.subplots()\n",
    "ax.scatter(w_l2, d_l2+jitter_l2, c=f_l2, alpha=0.5, cmap='coolwarm', marker='.', edgecolors='none')"
   ],
   "outputs": [],
   "metadata": {}
  },
  {
   "cell_type": "code",
   "execution_count": null,
   "source": [
    "fig, ax = plt.subplots()\n",
    "ax.scatter(w_l3, d_l3+jitter_l3, c=f_l3, alpha=0.55, cmap='coolwarm', marker='.', edgecolors='none')"
   ],
   "outputs": [],
   "metadata": {}
  },
  {
   "cell_type": "code",
   "execution_count": null,
   "source": [],
   "outputs": [],
   "metadata": {}
  }
 ],
 "metadata": {
  "orig_nbformat": 4,
  "language_info": {
   "name": "python",
   "version": "3.9.6",
   "mimetype": "text/x-python",
   "codemirror_mode": {
    "name": "ipython",
    "version": 3
   },
   "pygments_lexer": "ipython3",
   "nbconvert_exporter": "python",
   "file_extension": ".py"
  },
  "kernelspec": {
   "name": "python3",
   "display_name": "Python 3.9.6 64-bit ('cwp': conda)"
  },
  "interpreter": {
   "hash": "d5b6930b79664fd2fd478626cda658ab85c8dc312a8becc4b307d35bc96964b9"
  }
 },
 "nbformat": 4,
 "nbformat_minor": 2
}