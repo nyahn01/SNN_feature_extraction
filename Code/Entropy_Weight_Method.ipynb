{
 "cells": [
  {
   "cell_type": "code",
   "execution_count": 1,
   "source": [
    "import os\n",
    "import math\n",
    "import pandas as pd\n",
    "import numpy as np\n",
    "import matplotlib\n",
    "import matplotlib.pyplot as plt\n",
    "from matplotlib import rcParams\n",
    "from mpl_toolkits.mplot3d import Axes3D\n",
    "from sklearn.decomposition import PCA\n",
    "from sklearn.impute import SimpleImputer\n",
    "from sklearn.preprocessing import MinMaxScaler\n",
    "import matplotlib.cm as cm\n",
    "from matplotlib.colors import Normalize"
   ],
   "outputs": [],
   "metadata": {}
  },
  {
   "cell_type": "code",
   "execution_count": 2,
   "metadata": {},
   "outputs": [],
   "source": [
    "# data loading\n",
    "\n",
    "act_path = os.getcwd()\n",
    "weights = np.zeros((96,78))\n",
    "delay = np.zeros((96,78))\n",
    "fitness= np.zeros((96))\n",
    "range_weights = 20.\n",
    "range_delay = np.array([1.,10.])\n",
    "range_fitness = 100.\n",
    "\n",
    "for data_number in range(96):\n",
    "    file_name = \"individual_99_\" + str(data_number) + \"_result.csv\"\n",
    "    data_path = os.path.join(act_path, \"csv_files_data1\", file_name)\n",
    "    df = pd.read_csv(data_path, delimiter=',', header=None)\n",
    "    df = df.to_numpy()\n",
    "    weights[data_number,:] = df[0,:]\n",
    "    delay[data_number,:] = df[1,:]\n",
    "    fitness[data_number] = df[2,0] \n",
    "    \n",
    "fit_mean = np.mean(fitness) # to do: min, max, mean, standerd dev.\n",
    "# print(fit_mean)\n",
    "\n",
    "# numpy arrays\n",
    "weights = np.clip(weights, -20., 20.)\n",
    "delay = np.clip(delay, 1., 10.)\n",
    "fitness = np.clip(fitness, -10000., 10000.)\n",
    "\n",
    "# data frames for all indiviuals together\n",
    "weights_df = pd.DataFrame(weights)\n",
    "delay_df = pd.DataFrame(delay)\n",
    "fitness_df = pd.DataFrame(fitness)\n",
    "\n",
    "# data frames for each individual (weights + delay)\n",
    "df_list = []\n",
    "weights_delay = np.zeros((78,2))\n",
    "for data_number in range(96):\n",
    "    weights_delay[:,0] = weights[data_number, :]\n",
    "    weights_delay[:,1] = delay[data_number, :]\n",
    "    df_list.append(pd.DataFrame(weights_delay))"
   ]
  },
  {
   "cell_type": "code",
   "execution_count": 3,
   "outputs": [],
   "source": [
    "weights_sum = np.zeros(78)\n",
    "delay_sum = np.zeros(78)\n",
    "\n",
    "#for data_number_CSV in range(96):\n",
    " #   for data_number_indi in range(78):\n",
    "  #      weights_sum[data_number_indi] += weights[data_number_CSV, data_number_indi]\n",
    "   #     delay_sum[data_number_indi] += delay[data_number_CSV, data_number_indi]\n",
    "\n",
    "weights_scaled = np.zeros((96,78))\n",
    "delay_scaled = np.zeros((96,78))\n",
    "for j in range(96):\n",
    "    for i in range(78):\n",
    "        weights_scaled[j,i] = (weights[j,i]+20)/40\n",
    "        delay_scaled[j,i] =  (delay[j,i]-1)/9\n",
    "\n",
    "Entropy_weight = np.zeros(78)\n",
    "Entropy_delay = np.zeros(78)\n",
    "for i in range(78):\n",
    "    for j in range(96):\n",
    "        if weights_scaled[j,i] != 0:\n",
    "            Entropy_weight[i] -= weights_scaled[j,i] * math. log(weights_scaled[j,i])\n",
    "        if delay_scaled[j,i] != 0:\n",
    "            Entropy_delay[i] -= delay_scaled[j,i] * math.log(delay_scaled[j,i])\n",
    "\n",
    "Entropy_weight *= 1/math.log(96)\n",
    "Entropy_delay *= 1/math.log(96)\n",
    "\n",
    "Weights_of_indizies_W = np.zeros(78)\n",
    "Weights_of_indizies_D = np.zeros(78)\n",
    "Entropy_weight_sum = 0\n",
    "Entropy_delay_sum = 0\n",
    "for i in range(78):\n",
    "    Entropy_weight_sum += Entropy_weight[i]\n",
    "    Entropy_delay_sum += Entropy_delay[i]\n",
    "\n",
    "for i in range(78):\n",
    "    Weights_of_indizies_W[i]= (1-Entropy_weight[i])/(96-Entropy_weight_sum)\n",
    "    Weights_of_indizies_D[i]= (1-Entropy_delay[i])/(96-Entropy_delay_sum)\n",
    "\n",
    "#data_merged['Weights_of_weights'] = Weights_of_indizies_W\n",
    "#data_merged['Weights_of_delay'] = Weights_of_indizies_D"
   ],
   "metadata": {
    "collapsed": false,
    "pycharm": {
     "name": "#%%\n"
    }
   }
  },
  {
   "cell_type": "code",
   "execution_count": 4,
   "outputs": [
    {
     "data": {
      "text/plain": "<Figure size 432x288 with 1 Axes>",
      "image/png": "[encoded data removed]"
     },
     "metadata": {
      "needs_background": "light"
     },
     "output_type": "display_data"
    },
    {
     "data": {
      "text/plain": "<Figure size 432x288 with 1 Axes>",
      "image/png": "[encoded data removed]"
     },
     "metadata": {
      "needs_background": "light"
     },
     "output_type": "display_data"
    }
   ],
   "source": [
    "\n",
    "fig1 = plt.figure(1)\n",
    "plt.plot(Weights_of_indizies_W, 'ro', marker = 'o', color ='b')\n",
    "plt.ylabel('Weights of individual weights')\n",
    "plt.show()\n",
    "fig1_name = 'Weights_of_weight_Indizies.png'\n",
    "\n",
    "fig2 = plt.figure(2)\n",
    "fig1.savefig(fig1_name)\n",
    "\n",
    "plt.plot(Weights_of_indizies_D, 'ro', marker = 'o', color ='r')\n",
    "plt.ylabel('Weights of individual delays')\n",
    "plt.show()\n",
    "\n",
    "fig2_name = 'Weights_of_delay_Indizies.png'\n",
    "fig2.savefig(fig2_name)"
   ],
   "metadata": {
    "collapsed": false,
    "pycharm": {
     "name": "#%%\n"
    }
   }
  }
 ],
 "metadata": {
  "orig_nbformat": 4,
  "language_info": {
   "name": "python",
   "version": "3.7.9"
  },
  "kernelspec": {
   "name": "python3",
   "language": "python",
   "display_name": "Python 3"
  },
  "interpreter": {
   "hash": "3f05ab161622eacdff25f9aa4c8a9e1ec5ced300127bb51f24bd5f071aedeaad"
  }
 },
 "nbformat": 4,
 "nbformat_minor": 2
}