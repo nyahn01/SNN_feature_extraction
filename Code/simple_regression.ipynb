{
 "cells": [
  {
   "cell_type": "code",
   "execution_count": 20,
   "metadata": {},
   "outputs": [
    {
     "name": "stdout",
     "output_type": "stream",
     "text": [
      "The autoreload extension is already loaded. To reload it, use:\n",
      "  %reload_ext autoreload\n"
     ]
    }
   ],
   "source": [
    "%load_ext autoreload\n",
    "%autoreload 2\n",
    "\n",
    "import numpy as np\n",
    "from sklearn.linear_model import LinearRegression, Ridge, Lasso\n",
    "from sklearn.preprocessing import StandardScaler\n",
    "from loader import load"
   ]
  },
  {
   "cell_type": "code",
   "execution_count": 2,
   "metadata": {},
   "outputs": [],
   "source": [
    "weights1, delays1, fitnesses1 = load('csv_files_data1')\n",
    "weights2, delays2, fitnesses2 = load('csv_files_data1')"
   ]
  },
  {
   "cell_type": "code",
   "execution_count": 3,
   "metadata": {},
   "outputs": [],
   "source": [
    "w_scaler = d_scaler = StandardScaler()\n",
    "\n",
    "w1 = w_scaler.fit_transform(weights1)\n",
    "d1 = d_scaler.fit_transform(delays1)\n",
    "features1 = np.concatenate((w1, d1), axis=1)\n",
    "\n",
    "w2 = w_scaler.transform(weights2)\n",
    "d2 = d_scaler.transform(delays2)\n",
    "features2 = np.concatenate((w2, d2), axis=1)"
   ]
  },
  {
   "cell_type": "code",
   "execution_count": 23,
   "metadata": {},
   "outputs": [
    {
     "name": "stdout",
     "output_type": "stream",
     "text": [
      "train R²: 1.0\n",
      "test R²: -1810.5089033222657\n"
     ]
    }
   ],
   "source": [
    "reg = LinearRegression().fit(features1, fitnesses1)\n",
    "print(\"train R²:\", reg.score(features1, fitnesses1))\n",
    "print(\"test R²:\", reg.score(features2, fitnesses2))"
   ]
  },
  {
   "cell_type": "code",
   "execution_count": 24,
   "metadata": {},
   "outputs": [
    {
     "name": "stdout",
     "output_type": "stream",
     "text": [
      "train R²: 0.5856160420826415\n",
      "test R²: -20.726999312337767\n"
     ]
    }
   ],
   "source": [
    "reg = Ridge(alpha=10).fit(features1, fitnesses1)\n",
    "print(\"train R²:\", reg.score(features1, fitnesses1))\n",
    "print(\"test R²:\", reg.score(features2, fitnesses2))"
   ]
  },
  {
   "cell_type": "code",
   "execution_count": 25,
   "metadata": {},
   "outputs": [
    {
     "name": "stdout",
     "output_type": "stream",
     "text": [
      "train R²: 0.1625986635684964\n",
      "test R²: -3.7028226067345082\n"
     ]
    }
   ],
   "source": [
    "reg = Lasso(alpha=10).fit(features1, fitnesses1)\n",
    "print(\"train R²:\", reg.score(features1, fitnesses1))\n",
    "print(\"test R²:\", reg.score(features2, fitnesses2))"
   ]
  },
  {
   "cell_type": "code",
   "execution_count": null,
   "metadata": {},
   "outputs": [],
   "source": []
  }
 ],
 "metadata": {
  "interpreter": {
   "hash": "d5b6930b79664fd2fd478626cda658ab85c8dc312a8becc4b307d35bc96964b9"
  },
  "kernelspec": {
   "display_name": "Python 3",
   "language": "python",
   "name": "python3"
  },
  "language_info": {
   "codemirror_mode": {
    "name": "ipython",
    "version": 3
   },
   "file_extension": ".py",
   "mimetype": "text/x-python",
   "name": "python",
   "nbconvert_exporter": "python",
   "pygments_lexer": "ipython3",
   "version": "3.8.8"
  }
 },
 "nbformat": 4,
 "nbformat_minor": 2
}
